{
 "cells": [
  {
   "cell_type": "code",
   "execution_count": 17,
   "id": "88cada44-59c8-41f9-b3fb-37c02030c8c1",
   "metadata": {},
   "outputs": [
    {
     "name": "stdout",
     "output_type": "stream",
     "text": [
      "['Batman Begins (2005)', 'Dark Knight, The (2008)', 'Batman Returns (1992)', 'Daredevil (2003)', 'Dead Man Walking (1995)', 'Horrors of Spider Island (Ein Toter Hing im Netz) (1960)', 'Hulk (2003)', 'Mr. 3000 (2004)', 'What Women Want (2000)']\n",
      "[33794, 58559, 1377, 6157, 36, 4051, 6534, 8864, 4018]\n"
     ]
    },
    {
     "name": "stderr",
     "output_type": "stream",
     "text": [
      "/var/folders/lp/tw6wpzqs11l54033wwlhzq500000gn/T/ipykernel_51594/263392280.py:103: FutureWarning:\n",
      "\n",
      "Calling int on a single element Series is deprecated and will raise a TypeError in the future. Use int(ser.iloc[0]) instead\n",
      "\n"
     ]
    },
    {
     "name": "stdout",
     "output_type": "stream",
     "text": [
      "[0, 0, 0, 0, 0, 0, 0, 0, 0]\n"
     ]
    },
    {
     "data": {
      "application/vnd.plotly.v1+json": {
       "config": {
        "plotlyServerURL": "https://plot.ly"
       },
       "data": [
        {
         "marker": {
          "color": "rgba(246, 78, 139, 0.6)",
          "line": {
           "color": "rgba(246, 78, 139, 1.0)",
           "width": 3
          }
         },
         "name": "Animation/Children",
         "orientation": "h",
         "type": "bar",
         "x": [
          0,
          0,
          0,
          0,
          0,
          0,
          0,
          0,
          0
         ],
         "y": [
          "Batman Begins (2005)",
          "Dark Knight, The (2008)",
          "Batman Returns (1992)",
          "Daredevil (2003)",
          "Dead Man Walking (1995)",
          "Horrors of Spider Island (Ein Toter Hing im Netz) (1960)",
          "Hulk (2003)",
          "Mr. 3000 (2004)",
          "What Women Want (2000)"
         ]
        },
        {
         "marker": {
          "color": "rgba(58, 71, 80, 0.6)",
          "line": {
           "color": "rgba(58, 71, 80, 1.0)",
           "width": 3
          }
         },
         "name": "Action/Adventure",
         "orientation": "h",
         "type": "bar",
         "x": [
          3.9894514767932487,
          4.236019242333133,
          3.18218085106383,
          2.564597846738442,
          0,
          0,
          2.71792510742787,
          0,
          0
         ],
         "y": [
          "Batman Begins (2005)",
          "Dark Knight, The (2008)",
          "Batman Returns (1992)",
          "Daredevil (2003)",
          "Dead Man Walking (1995)",
          "Horrors of Spider Island (Ein Toter Hing im Netz) (1960)",
          "Hulk (2003)",
          "Mr. 3000 (2004)",
          "What Women Want (2000)"
         ]
        },
        {
         "marker": {
          "color": "rgba(0, 100, 0, 0.6)",
          "line": {
           "color": "rgba(0, 100, 0, 1)",
           "width": 3
          }
         },
         "name": "War/Drama",
         "orientation": "h",
         "type": "bar",
         "x": [
          0,
          4.090336134453781,
          0,
          0,
          3.8147684605757197,
          0,
          0,
          2.640127388535032,
          0
         ],
         "y": [
          "Batman Begins (2005)",
          "Dark Knight, The (2008)",
          "Batman Returns (1992)",
          "Daredevil (2003)",
          "Dead Man Walking (1995)",
          "Horrors of Spider Island (Ein Toter Hing im Netz) (1960)",
          "Hulk (2003)",
          "Mr. 3000 (2004)",
          "What Women Want (2000)"
         ]
        },
        {
         "marker": {
          "color": "rgba(0, 0, 100, 0.6)",
          "line": {
           "color": "rgba(0, 0, 100, 1)",
           "width": 3
          }
         },
         "name": "Documentary",
         "orientation": "h",
         "type": "bar",
         "x": [],
         "y": [
          "Batman Begins (2005)",
          "Dark Knight, The (2008)",
          "Batman Returns (1992)",
          "Daredevil (2003)",
          "Dead Man Walking (1995)",
          "Horrors of Spider Island (Ein Toter Hing im Netz) (1960)",
          "Hulk (2003)",
          "Mr. 3000 (2004)",
          "What Women Want (2000)"
         ]
        },
        {
         "marker": {
          "color": "rgba(100, 0, 0, 0.6)",
          "line": {
           "color": "rgba(100, 0, 0, 1)",
           "width": 3
          }
         },
         "name": "Crime/Thriller",
         "orientation": "h",
         "type": "bar",
         "x": [
          3.9262256068538792,
          4.181168057210965,
          3.171435272045028,
          2.512955182072829,
          3.7368222891566263,
          0,
          0,
          0,
          0
         ],
         "y": [
          "Batman Begins (2005)",
          "Dark Knight, The (2008)",
          "Batman Returns (1992)",
          "Daredevil (2003)",
          "Dead Man Walking (1995)",
          "Horrors of Spider Island (Ein Toter Hing im Netz) (1960)",
          "Hulk (2003)",
          "Mr. 3000 (2004)",
          "What Women Want (2000)"
         ]
        },
        {
         "marker": {
          "color": "rgba(255, 0, 10, 0.6)",
          "line": {
           "color": "rgba(255, 0, 10, 1)",
           "width": 3
          }
         },
         "name": "Documentary/IMAX",
         "orientation": "h",
         "type": "bar",
         "x": [
          3.933757286698463,
          4.197074468085106,
          0,
          0,
          0,
          0,
          0,
          0,
          0
         ],
         "y": [
          "Batman Begins (2005)",
          "Dark Knight, The (2008)",
          "Batman Returns (1992)",
          "Daredevil (2003)",
          "Dead Man Walking (1995)",
          "Horrors of Spider Island (Ein Toter Hing im Netz) (1960)",
          "Hulk (2003)",
          "Mr. 3000 (2004)",
          "What Women Want (2000)"
         ]
        },
        {
         "marker": {
          "color": "rgba(96, 89, 161, 0.6)",
          "line": {
           "color": "rgba(96, 89, 161, 1)",
           "width": 3
          }
         },
         "name": "Music/Romance",
         "orientation": "h",
         "type": "bar",
         "x": [
          0,
          0,
          0,
          0,
          0,
          0,
          0,
          0,
          2.9927007299270074
         ],
         "y": [
          "Batman Begins (2005)",
          "Dark Knight, The (2008)",
          "Batman Returns (1992)",
          "Daredevil (2003)",
          "Dead Man Walking (1995)",
          "Horrors of Spider Island (Ein Toter Hing im Netz) (1960)",
          "Hulk (2003)",
          "Mr. 3000 (2004)",
          "What Women Want (2000)"
         ]
        },
        {
         "marker": {
          "color": "rgba(122, 255, 153, 0.6)",
          "line": {
           "color": "rgba(122, 255, 153, 1)",
           "width": 3
          }
         },
         "name": "Horror/Sci-Fi",
         "orientation": "h",
         "type": "bar",
         "x": [
          0,
          0,
          0,
          0,
          0,
          1.3846153846153846,
          2.7052736982643526,
          0,
          0
         ],
         "y": [
          "Batman Begins (2005)",
          "Dark Knight, The (2008)",
          "Batman Returns (1992)",
          "Daredevil (2003)",
          "Dead Man Walking (1995)",
          "Horrors of Spider Island (Ein Toter Hing im Netz) (1960)",
          "Hulk (2003)",
          "Mr. 3000 (2004)",
          "What Women Want (2000)"
         ]
        },
        {
         "marker": {
          "color": "rgba(122, 255, 255, 0.6)",
          "line": {
           "color": "rgba(122, 255, 255, 1)",
           "width": 3
          }
         },
         "name": "Fantasy/Western",
         "orientation": "h",
         "type": "bar",
         "x": [
          0,
          0,
          0,
          0,
          0,
          0,
          0,
          0,
          0
         ],
         "y": [
          "Batman Begins (2005)",
          "Dark Knight, The (2008)",
          "Batman Returns (1992)",
          "Daredevil (2003)",
          "Dead Man Walking (1995)",
          "Horrors of Spider Island (Ein Toter Hing im Netz) (1960)",
          "Hulk (2003)",
          "Mr. 3000 (2004)",
          "What Women Want (2000)"
         ]
        },
        {
         "marker": {
          "color": "rgba(252, 101, 0, 0.6)",
          "line": {
           "color": "rgba(252, 101, 0, 1)",
           "width": 3
          }
         },
         "name": "Mystery/Film-Noir",
         "orientation": "h",
         "type": "bar",
         "x": [
          0,
          0,
          0,
          0,
          0,
          0,
          0,
          0,
          0
         ],
         "y": [
          "Batman Begins (2005)",
          "Dark Knight, The (2008)",
          "Batman Returns (1992)",
          "Daredevil (2003)",
          "Dead Man Walking (1995)",
          "Horrors of Spider Island (Ein Toter Hing im Netz) (1960)",
          "Hulk (2003)",
          "Mr. 3000 (2004)",
          "What Women Want (2000)"
         ]
        }
       ],
       "layout": {
        "autosize": true,
        "barmode": "stack",
        "template": {
         "data": {
          "bar": [
           {
            "error_x": {
             "color": "#2a3f5f"
            },
            "error_y": {
             "color": "#2a3f5f"
            },
            "marker": {
             "line": {
              "color": "#E5ECF6",
              "width": 0.5
             },
             "pattern": {
              "fillmode": "overlay",
              "size": 10,
              "solidity": 0.2
             }
            },
            "type": "bar"
           }
          ],
          "barpolar": [
           {
            "marker": {
             "line": {
              "color": "#E5ECF6",
              "width": 0.5
             },
             "pattern": {
              "fillmode": "overlay",
              "size": 10,
              "solidity": 0.2
             }
            },
            "type": "barpolar"
           }
          ],
          "carpet": [
           {
            "aaxis": {
             "endlinecolor": "#2a3f5f",
             "gridcolor": "white",
             "linecolor": "white",
             "minorgridcolor": "white",
             "startlinecolor": "#2a3f5f"
            },
            "baxis": {
             "endlinecolor": "#2a3f5f",
             "gridcolor": "white",
             "linecolor": "white",
             "minorgridcolor": "white",
             "startlinecolor": "#2a3f5f"
            },
            "type": "carpet"
           }
          ],
          "choropleth": [
           {
            "colorbar": {
             "outlinewidth": 0,
             "ticks": ""
            },
            "type": "choropleth"
           }
          ],
          "contour": [
           {
            "colorbar": {
             "outlinewidth": 0,
             "ticks": ""
            },
            "colorscale": [
             [
              0,
              "#0d0887"
             ],
             [
              0.1111111111111111,
              "#46039f"
             ],
             [
              0.2222222222222222,
              "#7201a8"
             ],
             [
              0.3333333333333333,
              "#9c179e"
             ],
             [
              0.4444444444444444,
              "#bd3786"
             ],
             [
              0.5555555555555556,
              "#d8576b"
             ],
             [
              0.6666666666666666,
              "#ed7953"
             ],
             [
              0.7777777777777778,
              "#fb9f3a"
             ],
             [
              0.8888888888888888,
              "#fdca26"
             ],
             [
              1,
              "#f0f921"
             ]
            ],
            "type": "contour"
           }
          ],
          "contourcarpet": [
           {
            "colorbar": {
             "outlinewidth": 0,
             "ticks": ""
            },
            "type": "contourcarpet"
           }
          ],
          "heatmap": [
           {
            "colorbar": {
             "outlinewidth": 0,
             "ticks": ""
            },
            "colorscale": [
             [
              0,
              "#0d0887"
             ],
             [
              0.1111111111111111,
              "#46039f"
             ],
             [
              0.2222222222222222,
              "#7201a8"
             ],
             [
              0.3333333333333333,
              "#9c179e"
             ],
             [
              0.4444444444444444,
              "#bd3786"
             ],
             [
              0.5555555555555556,
              "#d8576b"
             ],
             [
              0.6666666666666666,
              "#ed7953"
             ],
             [
              0.7777777777777778,
              "#fb9f3a"
             ],
             [
              0.8888888888888888,
              "#fdca26"
             ],
             [
              1,
              "#f0f921"
             ]
            ],
            "type": "heatmap"
           }
          ],
          "heatmapgl": [
           {
            "colorbar": {
             "outlinewidth": 0,
             "ticks": ""
            },
            "colorscale": [
             [
              0,
              "#0d0887"
             ],
             [
              0.1111111111111111,
              "#46039f"
             ],
             [
              0.2222222222222222,
              "#7201a8"
             ],
             [
              0.3333333333333333,
              "#9c179e"
             ],
             [
              0.4444444444444444,
              "#bd3786"
             ],
             [
              0.5555555555555556,
              "#d8576b"
             ],
             [
              0.6666666666666666,
              "#ed7953"
             ],
             [
              0.7777777777777778,
              "#fb9f3a"
             ],
             [
              0.8888888888888888,
              "#fdca26"
             ],
             [
              1,
              "#f0f921"
             ]
            ],
            "type": "heatmapgl"
           }
          ],
          "histogram": [
           {
            "marker": {
             "pattern": {
              "fillmode": "overlay",
              "size": 10,
              "solidity": 0.2
             }
            },
            "type": "histogram"
           }
          ],
          "histogram2d": [
           {
            "colorbar": {
             "outlinewidth": 0,
             "ticks": ""
            },
            "colorscale": [
             [
              0,
              "#0d0887"
             ],
             [
              0.1111111111111111,
              "#46039f"
             ],
             [
              0.2222222222222222,
              "#7201a8"
             ],
             [
              0.3333333333333333,
              "#9c179e"
             ],
             [
              0.4444444444444444,
              "#bd3786"
             ],
             [
              0.5555555555555556,
              "#d8576b"
             ],
             [
              0.6666666666666666,
              "#ed7953"
             ],
             [
              0.7777777777777778,
              "#fb9f3a"
             ],
             [
              0.8888888888888888,
              "#fdca26"
             ],
             [
              1,
              "#f0f921"
             ]
            ],
            "type": "histogram2d"
           }
          ],
          "histogram2dcontour": [
           {
            "colorbar": {
             "outlinewidth": 0,
             "ticks": ""
            },
            "colorscale": [
             [
              0,
              "#0d0887"
             ],
             [
              0.1111111111111111,
              "#46039f"
             ],
             [
              0.2222222222222222,
              "#7201a8"
             ],
             [
              0.3333333333333333,
              "#9c179e"
             ],
             [
              0.4444444444444444,
              "#bd3786"
             ],
             [
              0.5555555555555556,
              "#d8576b"
             ],
             [
              0.6666666666666666,
              "#ed7953"
             ],
             [
              0.7777777777777778,
              "#fb9f3a"
             ],
             [
              0.8888888888888888,
              "#fdca26"
             ],
             [
              1,
              "#f0f921"
             ]
            ],
            "type": "histogram2dcontour"
           }
          ],
          "mesh3d": [
           {
            "colorbar": {
             "outlinewidth": 0,
             "ticks": ""
            },
            "type": "mesh3d"
           }
          ],
          "parcoords": [
           {
            "line": {
             "colorbar": {
              "outlinewidth": 0,
              "ticks": ""
             }
            },
            "type": "parcoords"
           }
          ],
          "pie": [
           {
            "automargin": true,
            "type": "pie"
           }
          ],
          "scatter": [
           {
            "fillpattern": {
             "fillmode": "overlay",
             "size": 10,
             "solidity": 0.2
            },
            "type": "scatter"
           }
          ],
          "scatter3d": [
           {
            "line": {
             "colorbar": {
              "outlinewidth": 0,
              "ticks": ""
             }
            },
            "marker": {
             "colorbar": {
              "outlinewidth": 0,
              "ticks": ""
             }
            },
            "type": "scatter3d"
           }
          ],
          "scattercarpet": [
           {
            "marker": {
             "colorbar": {
              "outlinewidth": 0,
              "ticks": ""
             }
            },
            "type": "scattercarpet"
           }
          ],
          "scattergeo": [
           {
            "marker": {
             "colorbar": {
              "outlinewidth": 0,
              "ticks": ""
             }
            },
            "type": "scattergeo"
           }
          ],
          "scattergl": [
           {
            "marker": {
             "colorbar": {
              "outlinewidth": 0,
              "ticks": ""
             }
            },
            "type": "scattergl"
           }
          ],
          "scattermapbox": [
           {
            "marker": {
             "colorbar": {
              "outlinewidth": 0,
              "ticks": ""
             }
            },
            "type": "scattermapbox"
           }
          ],
          "scatterpolar": [
           {
            "marker": {
             "colorbar": {
              "outlinewidth": 0,
              "ticks": ""
             }
            },
            "type": "scatterpolar"
           }
          ],
          "scatterpolargl": [
           {
            "marker": {
             "colorbar": {
              "outlinewidth": 0,
              "ticks": ""
             }
            },
            "type": "scatterpolargl"
           }
          ],
          "scatterternary": [
           {
            "marker": {
             "colorbar": {
              "outlinewidth": 0,
              "ticks": ""
             }
            },
            "type": "scatterternary"
           }
          ],
          "surface": [
           {
            "colorbar": {
             "outlinewidth": 0,
             "ticks": ""
            },
            "colorscale": [
             [
              0,
              "#0d0887"
             ],
             [
              0.1111111111111111,
              "#46039f"
             ],
             [
              0.2222222222222222,
              "#7201a8"
             ],
             [
              0.3333333333333333,
              "#9c179e"
             ],
             [
              0.4444444444444444,
              "#bd3786"
             ],
             [
              0.5555555555555556,
              "#d8576b"
             ],
             [
              0.6666666666666666,
              "#ed7953"
             ],
             [
              0.7777777777777778,
              "#fb9f3a"
             ],
             [
              0.8888888888888888,
              "#fdca26"
             ],
             [
              1,
              "#f0f921"
             ]
            ],
            "type": "surface"
           }
          ],
          "table": [
           {
            "cells": {
             "fill": {
              "color": "#EBF0F8"
             },
             "line": {
              "color": "white"
             }
            },
            "header": {
             "fill": {
              "color": "#C8D4E3"
             },
             "line": {
              "color": "white"
             }
            },
            "type": "table"
           }
          ]
         },
         "layout": {
          "annotationdefaults": {
           "arrowcolor": "#2a3f5f",
           "arrowhead": 0,
           "arrowwidth": 1
          },
          "autotypenumbers": "strict",
          "coloraxis": {
           "colorbar": {
            "outlinewidth": 0,
            "ticks": ""
           }
          },
          "colorscale": {
           "diverging": [
            [
             0,
             "#8e0152"
            ],
            [
             0.1,
             "#c51b7d"
            ],
            [
             0.2,
             "#de77ae"
            ],
            [
             0.3,
             "#f1b6da"
            ],
            [
             0.4,
             "#fde0ef"
            ],
            [
             0.5,
             "#f7f7f7"
            ],
            [
             0.6,
             "#e6f5d0"
            ],
            [
             0.7,
             "#b8e186"
            ],
            [
             0.8,
             "#7fbc41"
            ],
            [
             0.9,
             "#4d9221"
            ],
            [
             1,
             "#276419"
            ]
           ],
           "sequential": [
            [
             0,
             "#0d0887"
            ],
            [
             0.1111111111111111,
             "#46039f"
            ],
            [
             0.2222222222222222,
             "#7201a8"
            ],
            [
             0.3333333333333333,
             "#9c179e"
            ],
            [
             0.4444444444444444,
             "#bd3786"
            ],
            [
             0.5555555555555556,
             "#d8576b"
            ],
            [
             0.6666666666666666,
             "#ed7953"
            ],
            [
             0.7777777777777778,
             "#fb9f3a"
            ],
            [
             0.8888888888888888,
             "#fdca26"
            ],
            [
             1,
             "#f0f921"
            ]
           ],
           "sequentialminus": [
            [
             0,
             "#0d0887"
            ],
            [
             0.1111111111111111,
             "#46039f"
            ],
            [
             0.2222222222222222,
             "#7201a8"
            ],
            [
             0.3333333333333333,
             "#9c179e"
            ],
            [
             0.4444444444444444,
             "#bd3786"
            ],
            [
             0.5555555555555556,
             "#d8576b"
            ],
            [
             0.6666666666666666,
             "#ed7953"
            ],
            [
             0.7777777777777778,
             "#fb9f3a"
            ],
            [
             0.8888888888888888,
             "#fdca26"
            ],
            [
             1,
             "#f0f921"
            ]
           ]
          },
          "colorway": [
           "#636efa",
           "#EF553B",
           "#00cc96",
           "#ab63fa",
           "#FFA15A",
           "#19d3f3",
           "#FF6692",
           "#B6E880",
           "#FF97FF",
           "#FECB52"
          ],
          "font": {
           "color": "#2a3f5f"
          },
          "geo": {
           "bgcolor": "white",
           "lakecolor": "white",
           "landcolor": "#E5ECF6",
           "showlakes": true,
           "showland": true,
           "subunitcolor": "white"
          },
          "hoverlabel": {
           "align": "left"
          },
          "hovermode": "closest",
          "mapbox": {
           "style": "light"
          },
          "paper_bgcolor": "white",
          "plot_bgcolor": "#E5ECF6",
          "polar": {
           "angularaxis": {
            "gridcolor": "white",
            "linecolor": "white",
            "ticks": ""
           },
           "bgcolor": "#E5ECF6",
           "radialaxis": {
            "gridcolor": "white",
            "linecolor": "white",
            "ticks": ""
           }
          },
          "scene": {
           "xaxis": {
            "backgroundcolor": "#E5ECF6",
            "gridcolor": "white",
            "gridwidth": 2,
            "linecolor": "white",
            "showbackground": true,
            "ticks": "",
            "zerolinecolor": "white"
           },
           "yaxis": {
            "backgroundcolor": "#E5ECF6",
            "gridcolor": "white",
            "gridwidth": 2,
            "linecolor": "white",
            "showbackground": true,
            "ticks": "",
            "zerolinecolor": "white"
           },
           "zaxis": {
            "backgroundcolor": "#E5ECF6",
            "gridcolor": "white",
            "gridwidth": 2,
            "linecolor": "white",
            "showbackground": true,
            "ticks": "",
            "zerolinecolor": "white"
           }
          },
          "shapedefaults": {
           "line": {
            "color": "#2a3f5f"
           }
          },
          "ternary": {
           "aaxis": {
            "gridcolor": "white",
            "linecolor": "white",
            "ticks": ""
           },
           "baxis": {
            "gridcolor": "white",
            "linecolor": "white",
            "ticks": ""
           },
           "bgcolor": "#E5ECF6",
           "caxis": {
            "gridcolor": "white",
            "linecolor": "white",
            "ticks": ""
           }
          },
          "title": {
           "x": 0.05
          },
          "xaxis": {
           "automargin": true,
           "gridcolor": "white",
           "linecolor": "white",
           "ticks": "",
           "title": {
            "standoff": 15
           },
           "zerolinecolor": "white",
           "zerolinewidth": 2
          },
          "yaxis": {
           "automargin": true,
           "gridcolor": "white",
           "linecolor": "white",
           "ticks": "",
           "title": {
            "standoff": 15
           },
           "zerolinecolor": "white",
           "zerolinewidth": 2
          }
         }
        },
        "xaxis": {
         "autorange": true,
         "range": [
          0,
          17.58378726535051
         ],
         "type": "linear"
        },
        "yaxis": {
         "autorange": true,
         "range": [
          -0.5,
          8.5
         ],
         "type": "category"
        }
       }
      },
      "image/png": "[encoded data removed]",
      "text/html": [
       "<div>                            <div id=\"96b23894-f7d8-40bd-a208-3adcb2a7992f\" class=\"plotly-graph-div\" style=\"height:525px; width:100%;\"></div>            <script type=\"text/javascript\">                require([\"plotly\"], function(Plotly) {                    window.PLOTLYENV=window.PLOTLYENV || {};                                    if (document.getElementById(\"96b23894-f7d8-40bd-a208-3adcb2a7992f\")) {                    Plotly.newPlot(                        \"96b23894-f7d8-40bd-a208-3adcb2a7992f\",                        [{\"marker\":{\"color\":\"rgba(246, 78, 139, 0.6)\",\"line\":{\"color\":\"rgba(246, 78, 139, 1.0)\",\"width\":3}},\"name\":\"Animation/Children\",\"orientation\":\"h\",\"x\":[0,0,0,0,0,0,0,0,0],\"y\":[\"Batman Begins (2005)\",\"Dark Knight, The (2008)\",\"Batman Returns (1992)\",\"Daredevil (2003)\",\"Dead Man Walking (1995)\",\"Horrors of Spider Island (Ein Toter Hing im Netz) (1960)\",\"Hulk (2003)\",\"Mr. 3000 (2004)\",\"What Women Want (2000)\"],\"type\":\"bar\"},{\"marker\":{\"color\":\"rgba(58, 71, 80, 0.6)\",\"line\":{\"color\":\"rgba(58, 71, 80, 1.0)\",\"width\":3}},\"name\":\"Action/Adventure\",\"orientation\":\"h\",\"x\":[3.9894514767932487,4.236019242333133,3.18218085106383,2.564597846738442,0,0,2.71792510742787,0,0],\"y\":[\"Batman Begins (2005)\",\"Dark Knight, The (2008)\",\"Batman Returns (1992)\",\"Daredevil (2003)\",\"Dead Man Walking (1995)\",\"Horrors of Spider Island (Ein Toter Hing im Netz) (1960)\",\"Hulk (2003)\",\"Mr. 3000 (2004)\",\"What Women Want (2000)\"],\"type\":\"bar\"},{\"marker\":{\"color\":\"rgba(0, 100, 0, 0.6)\",\"line\":{\"color\":\"rgba(0, 100, 0, 1)\",\"width\":3}},\"name\":\"War/Drama\",\"orientation\":\"h\",\"x\":[0,4.090336134453781,0,0,3.8147684605757197,0,0,2.640127388535032,0],\"y\":[\"Batman Begins (2005)\",\"Dark Knight, The (2008)\",\"Batman Returns (1992)\",\"Daredevil (2003)\",\"Dead Man Walking (1995)\",\"Horrors of Spider Island (Ein Toter Hing im Netz) (1960)\",\"Hulk (2003)\",\"Mr. 3000 (2004)\",\"What Women Want (2000)\"],\"type\":\"bar\"},{\"marker\":{\"color\":\"rgba(0, 0, 100, 0.6)\",\"line\":{\"color\":\"rgba(0, 0, 100, 1)\",\"width\":3}},\"name\":\"Documentary\",\"orientation\":\"h\",\"x\":[],\"y\":[\"Batman Begins (2005)\",\"Dark Knight, The (2008)\",\"Batman Returns (1992)\",\"Daredevil (2003)\",\"Dead Man Walking (1995)\",\"Horrors of Spider Island (Ein Toter Hing im Netz) (1960)\",\"Hulk (2003)\",\"Mr. 3000 (2004)\",\"What Women Want (2000)\"],\"type\":\"bar\"},{\"marker\":{\"color\":\"rgba(100, 0, 0, 0.6)\",\"line\":{\"color\":\"rgba(100, 0, 0, 1)\",\"width\":3}},\"name\":\"Crime/Thriller\",\"orientation\":\"h\",\"x\":[3.9262256068538792,4.181168057210965,3.171435272045028,2.512955182072829,3.7368222891566263,0,0,0,0],\"y\":[\"Batman Begins (2005)\",\"Dark Knight, The (2008)\",\"Batman Returns (1992)\",\"Daredevil (2003)\",\"Dead Man Walking (1995)\",\"Horrors of Spider Island (Ein Toter Hing im Netz) (1960)\",\"Hulk (2003)\",\"Mr. 3000 (2004)\",\"What Women Want (2000)\"],\"type\":\"bar\"},{\"marker\":{\"color\":\"rgba(255, 0, 10, 0.6)\",\"line\":{\"color\":\"rgba(255, 0, 10, 1)\",\"width\":3}},\"name\":\"Documentary/IMAX\",\"orientation\":\"h\",\"x\":[3.933757286698463,4.197074468085106,0,0,0,0,0,0,0],\"y\":[\"Batman Begins (2005)\",\"Dark Knight, The (2008)\",\"Batman Returns (1992)\",\"Daredevil (2003)\",\"Dead Man Walking (1995)\",\"Horrors of Spider Island (Ein Toter Hing im Netz) (1960)\",\"Hulk (2003)\",\"Mr. 3000 (2004)\",\"What Women Want (2000)\"],\"type\":\"bar\"},{\"marker\":{\"color\":\"rgba(96, 89, 161, 0.6)\",\"line\":{\"color\":\"rgba(96, 89, 161, 1)\",\"width\":3}},\"name\":\"Music/Romance\",\"orientation\":\"h\",\"x\":[0,0,0,0,0,0,0,0,2.9927007299270074],\"y\":[\"Batman Begins (2005)\",\"Dark Knight, The (2008)\",\"Batman Returns (1992)\",\"Daredevil (2003)\",\"Dead Man Walking (1995)\",\"Horrors of Spider Island (Ein Toter Hing im Netz) (1960)\",\"Hulk (2003)\",\"Mr. 3000 (2004)\",\"What Women Want (2000)\"],\"type\":\"bar\"},{\"marker\":{\"color\":\"rgba(122, 255, 153, 0.6)\",\"line\":{\"color\":\"rgba(122, 255, 153, 1)\",\"width\":3}},\"name\":\"Horror/Sci-Fi\",\"orientation\":\"h\",\"x\":[0,0,0,0,0,1.3846153846153846,2.7052736982643526,0,0],\"y\":[\"Batman Begins (2005)\",\"Dark Knight, The (2008)\",\"Batman Returns (1992)\",\"Daredevil (2003)\",\"Dead Man Walking (1995)\",\"Horrors of Spider Island (Ein Toter Hing im Netz) (1960)\",\"Hulk (2003)\",\"Mr. 3000 (2004)\",\"What Women Want (2000)\"],\"type\":\"bar\"},{\"marker\":{\"color\":\"rgba(122, 255, 255, 0.6)\",\"line\":{\"color\":\"rgba(122, 255, 255, 1)\",\"width\":3}},\"name\":\"Fantasy/Western\",\"orientation\":\"h\",\"x\":[0,0,0,0,0,0,0,0,0],\"y\":[\"Batman Begins (2005)\",\"Dark Knight, The (2008)\",\"Batman Returns (1992)\",\"Daredevil (2003)\",\"Dead Man Walking (1995)\",\"Horrors of Spider Island (Ein Toter Hing im Netz) (1960)\",\"Hulk (2003)\",\"Mr. 3000 (2004)\",\"What Women Want (2000)\"],\"type\":\"bar\"},{\"marker\":{\"color\":\"rgba(252, 101, 0, 0.6)\",\"line\":{\"color\":\"rgba(252, 101, 0, 1)\",\"width\":3}},\"name\":\"Mystery/Film-Noir\",\"orientation\":\"h\",\"x\":[0,0,0,0,0,0,0,0,0],\"y\":[\"Batman Begins (2005)\",\"Dark Knight, The (2008)\",\"Batman Returns (1992)\",\"Daredevil (2003)\",\"Dead Man Walking (1995)\",\"Horrors of Spider Island (Ein Toter Hing im Netz) (1960)\",\"Hulk (2003)\",\"Mr. 3000 (2004)\",\"What Women Want (2000)\"],\"type\":\"bar\"}],                        {\"template\":{\"data\":{\"histogram2dcontour\":[{\"type\":\"histogram2dcontour\",\"colorbar\":{\"outlinewidth\":0,\"ticks\":\"\"},\"colorscale\":[[0.0,\"#0d0887\"],[0.1111111111111111,\"#46039f\"],[0.2222222222222222,\"#7201a8\"],[0.3333333333333333,\"#9c179e\"],[0.4444444444444444,\"#bd3786\"],[0.5555555555555556,\"#d8576b\"],[0.6666666666666666,\"#ed7953\"],[0.7777777777777778,\"#fb9f3a\"],[0.8888888888888888,\"#fdca26\"],[1.0,\"#f0f921\"]]}],\"choropleth\":[{\"type\":\"choropleth\",\"colorbar\":{\"outlinewidth\":0,\"ticks\":\"\"}}],\"histogram2d\":[{\"type\":\"histogram2d\",\"colorbar\":{\"outlinewidth\":0,\"ticks\":\"\"},\"colorscale\":[[0.0,\"#0d0887\"],[0.1111111111111111,\"#46039f\"],[0.2222222222222222,\"#7201a8\"],[0.3333333333333333,\"#9c179e\"],[0.4444444444444444,\"#bd3786\"],[0.5555555555555556,\"#d8576b\"],[0.6666666666666666,\"#ed7953\"],[0.7777777777777778,\"#fb9f3a\"],[0.8888888888888888,\"#fdca26\"],[1.0,\"#f0f921\"]]}],\"heatmap\":[{\"type\":\"heatmap\",\"colorbar\":{\"outlinewidth\":0,\"ticks\":\"\"},\"colorscale\":[[0.0,\"#0d0887\"],[0.1111111111111111,\"#46039f\"],[0.2222222222222222,\"#7201a8\"],[0.3333333333333333,\"#9c179e\"],[0.4444444444444444,\"#bd3786\"],[0.5555555555555556,\"#d8576b\"],[0.6666666666666666,\"#ed7953\"],[0.7777777777777778,\"#fb9f3a\"],[0.8888888888888888,\"#fdca26\"],[1.0,\"#f0f921\"]]}],\"heatmapgl\":[{\"type\":\"heatmapgl\",\"colorbar\":{\"outlinewidth\":0,\"ticks\":\"\"},\"colorscale\":[[0.0,\"#0d0887\"],[0.1111111111111111,\"#46039f\"],[0.2222222222222222,\"#7201a8\"],[0.3333333333333333,\"#9c179e\"],[0.4444444444444444,\"#bd3786\"],[0.5555555555555556,\"#d8576b\"],[0.6666666666666666,\"#ed7953\"],[0.7777777777777778,\"#fb9f3a\"],[0.8888888888888888,\"#fdca26\"],[1.0,\"#f0f921\"]]}],\"contourcarpet\":[{\"type\":\"contourcarpet\",\"colorbar\":{\"outlinewidth\":0,\"ticks\":\"\"}}],\"contour\":[{\"type\":\"contour\",\"colorbar\":{\"outlinewidth\":0,\"ticks\":\"\"},\"colorscale\":[[0.0,\"#0d0887\"],[0.1111111111111111,\"#46039f\"],[0.2222222222222222,\"#7201a8\"],[0.3333333333333333,\"#9c179e\"],[0.4444444444444444,\"#bd3786\"],[0.5555555555555556,\"#d8576b\"],[0.6666666666666666,\"#ed7953\"],[0.7777777777777778,\"#fb9f3a\"],[0.8888888888888888,\"#fdca26\"],[1.0,\"#f0f921\"]]}],\"surface\":[{\"type\":\"surface\",\"colorbar\":{\"outlinewidth\":0,\"ticks\":\"\"},\"colorscale\":[[0.0,\"#0d0887\"],[0.1111111111111111,\"#46039f\"],[0.2222222222222222,\"#7201a8\"],[0.3333333333333333,\"#9c179e\"],[0.4444444444444444,\"#bd3786\"],[0.5555555555555556,\"#d8576b\"],[0.6666666666666666,\"#ed7953\"],[0.7777777777777778,\"#fb9f3a\"],[0.8888888888888888,\"#fdca26\"],[1.0,\"#f0f921\"]]}],\"mesh3d\":[{\"type\":\"mesh3d\",\"colorbar\":{\"outlinewidth\":0,\"ticks\":\"\"}}],\"scatter\":[{\"fillpattern\":{\"fillmode\":\"overlay\",\"size\":10,\"solidity\":0.2},\"type\":\"scatter\"}],\"parcoords\":[{\"type\":\"parcoords\",\"line\":{\"colorbar\":{\"outlinewidth\":0,\"ticks\":\"\"}}}],\"scatterpolargl\":[{\"type\":\"scatterpolargl\",\"marker\":{\"colorbar\":{\"outlinewidth\":0,\"ticks\":\"\"}}}],\"bar\":[{\"error_x\":{\"color\":\"#2a3f5f\"},\"error_y\":{\"color\":\"#2a3f5f\"},\"marker\":{\"line\":{\"color\":\"#E5ECF6\",\"width\":0.5},\"pattern\":{\"fillmode\":\"overlay\",\"size\":10,\"solidity\":0.2}},\"type\":\"bar\"}],\"scattergeo\":[{\"type\":\"scattergeo\",\"marker\":{\"colorbar\":{\"outlinewidth\":0,\"ticks\":\"\"}}}],\"scatterpolar\":[{\"type\":\"scatterpolar\",\"marker\":{\"colorbar\":{\"outlinewidth\":0,\"ticks\":\"\"}}}],\"histogram\":[{\"marker\":{\"pattern\":{\"fillmode\":\"overlay\",\"size\":10,\"solidity\":0.2}},\"type\":\"histogram\"}],\"scattergl\":[{\"type\":\"scattergl\",\"marker\":{\"colorbar\":{\"outlinewidth\":0,\"ticks\":\"\"}}}],\"scatter3d\":[{\"type\":\"scatter3d\",\"line\":{\"colorbar\":{\"outlinewidth\":0,\"ticks\":\"\"}},\"marker\":{\"colorbar\":{\"outlinewidth\":0,\"ticks\":\"\"}}}],\"scattermapbox\":[{\"type\":\"scattermapbox\",\"marker\":{\"colorbar\":{\"outlinewidth\":0,\"ticks\":\"\"}}}],\"scatterternary\":[{\"type\":\"scatterternary\",\"marker\":{\"colorbar\":{\"outlinewidth\":0,\"ticks\":\"\"}}}],\"scattercarpet\":[{\"type\":\"scattercarpet\",\"marker\":{\"colorbar\":{\"outlinewidth\":0,\"ticks\":\"\"}}}],\"carpet\":[{\"aaxis\":{\"endlinecolor\":\"#2a3f5f\",\"gridcolor\":\"white\",\"linecolor\":\"white\",\"minorgridcolor\":\"white\",\"startlinecolor\":\"#2a3f5f\"},\"baxis\":{\"endlinecolor\":\"#2a3f5f\",\"gridcolor\":\"white\",\"linecolor\":\"white\",\"minorgridcolor\":\"white\",\"startlinecolor\":\"#2a3f5f\"},\"type\":\"carpet\"}],\"table\":[{\"cells\":{\"fill\":{\"color\":\"#EBF0F8\"},\"line\":{\"color\":\"white\"}},\"header\":{\"fill\":{\"color\":\"#C8D4E3\"},\"line\":{\"color\":\"white\"}},\"type\":\"table\"}],\"barpolar\":[{\"marker\":{\"line\":{\"color\":\"#E5ECF6\",\"width\":0.5},\"pattern\":{\"fillmode\":\"overlay\",\"size\":10,\"solidity\":0.2}},\"type\":\"barpolar\"}],\"pie\":[{\"automargin\":true,\"type\":\"pie\"}]},\"layout\":{\"autotypenumbers\":\"strict\",\"colorway\":[\"#636efa\",\"#EF553B\",\"#00cc96\",\"#ab63fa\",\"#FFA15A\",\"#19d3f3\",\"#FF6692\",\"#B6E880\",\"#FF97FF\",\"#FECB52\"],\"font\":{\"color\":\"#2a3f5f\"},\"hovermode\":\"closest\",\"hoverlabel\":{\"align\":\"left\"},\"paper_bgcolor\":\"white\",\"plot_bgcolor\":\"#E5ECF6\",\"polar\":{\"bgcolor\":\"#E5ECF6\",\"angularaxis\":{\"gridcolor\":\"white\",\"linecolor\":\"white\",\"ticks\":\"\"},\"radialaxis\":{\"gridcolor\":\"white\",\"linecolor\":\"white\",\"ticks\":\"\"}},\"ternary\":{\"bgcolor\":\"#E5ECF6\",\"aaxis\":{\"gridcolor\":\"white\",\"linecolor\":\"white\",\"ticks\":\"\"},\"baxis\":{\"gridcolor\":\"white\",\"linecolor\":\"white\",\"ticks\":\"\"},\"caxis\":{\"gridcolor\":\"white\",\"linecolor\":\"white\",\"ticks\":\"\"}},\"coloraxis\":{\"colorbar\":{\"outlinewidth\":0,\"ticks\":\"\"}},\"colorscale\":{\"sequential\":[[0.0,\"#0d0887\"],[0.1111111111111111,\"#46039f\"],[0.2222222222222222,\"#7201a8\"],[0.3333333333333333,\"#9c179e\"],[0.4444444444444444,\"#bd3786\"],[0.5555555555555556,\"#d8576b\"],[0.6666666666666666,\"#ed7953\"],[0.7777777777777778,\"#fb9f3a\"],[0.8888888888888888,\"#fdca26\"],[1.0,\"#f0f921\"]],\"sequentialminus\":[[0.0,\"#0d0887\"],[0.1111111111111111,\"#46039f\"],[0.2222222222222222,\"#7201a8\"],[0.3333333333333333,\"#9c179e\"],[0.4444444444444444,\"#bd3786\"],[0.5555555555555556,\"#d8576b\"],[0.6666666666666666,\"#ed7953\"],[0.7777777777777778,\"#fb9f3a\"],[0.8888888888888888,\"#fdca26\"],[1.0,\"#f0f921\"]],\"diverging\":[[0,\"#8e0152\"],[0.1,\"#c51b7d\"],[0.2,\"#de77ae\"],[0.3,\"#f1b6da\"],[0.4,\"#fde0ef\"],[0.5,\"#f7f7f7\"],[0.6,\"#e6f5d0\"],[0.7,\"#b8e186\"],[0.8,\"#7fbc41\"],[0.9,\"#4d9221\"],[1,\"#276419\"]]},\"xaxis\":{\"gridcolor\":\"white\",\"linecolor\":\"white\",\"ticks\":\"\",\"title\":{\"standoff\":15},\"zerolinecolor\":\"white\",\"automargin\":true,\"zerolinewidth\":2},\"yaxis\":{\"gridcolor\":\"white\",\"linecolor\":\"white\",\"ticks\":\"\",\"title\":{\"standoff\":15},\"zerolinecolor\":\"white\",\"automargin\":true,\"zerolinewidth\":2},\"scene\":{\"xaxis\":{\"backgroundcolor\":\"#E5ECF6\",\"gridcolor\":\"white\",\"linecolor\":\"white\",\"showbackground\":true,\"ticks\":\"\",\"zerolinecolor\":\"white\",\"gridwidth\":2},\"yaxis\":{\"backgroundcolor\":\"#E5ECF6\",\"gridcolor\":\"white\",\"linecolor\":\"white\",\"showbackground\":true,\"ticks\":\"\",\"zerolinecolor\":\"white\",\"gridwidth\":2},\"zaxis\":{\"backgroundcolor\":\"#E5ECF6\",\"gridcolor\":\"white\",\"linecolor\":\"white\",\"showbackground\":true,\"ticks\":\"\",\"zerolinecolor\":\"white\",\"gridwidth\":2}},\"shapedefaults\":{\"line\":{\"color\":\"#2a3f5f\"}},\"annotationdefaults\":{\"arrowcolor\":\"#2a3f5f\",\"arrowhead\":0,\"arrowwidth\":1},\"geo\":{\"bgcolor\":\"white\",\"landcolor\":\"#E5ECF6\",\"subunitcolor\":\"white\",\"showland\":true,\"showlakes\":true,\"lakecolor\":\"white\"},\"title\":{\"x\":0.05},\"mapbox\":{\"style\":\"light\"}}},\"barmode\":\"stack\"},                        {\"responsive\": true}                    ).then(function(){\n",
       "                            \n",
       "var gd = document.getElementById('96b23894-f7d8-40bd-a208-3adcb2a7992f');\n",
       "var x = new MutationObserver(function (mutations, observer) {{\n",
       "        var display = window.getComputedStyle(gd).display;\n",
       "        if (!display || display === 'none') {{\n",
       "            console.log([gd, 'removed!']);\n",
       "            Plotly.purge(gd);\n",
       "            observer.disconnect();\n",
       "        }}\n",
       "}});\n",
       "\n",
       "// Listen for the removal of the full notebook cells\n",
       "var notebookContainer = gd.closest('#notebook-container');\n",
       "if (notebookContainer) {{\n",
       "    x.observe(notebookContainer, {childList: true});\n",
       "}}\n",
       "\n",
       "// Listen for the clearing of the current output cell\n",
       "var outputEl = gd.closest('.output');\n",
       "if (outputEl) {{\n",
       "    x.observe(outputEl, {childList: true});\n",
       "}}\n",
       "\n",
       "                        })                };                });            </script>        </div>"
      ]
     },
     "metadata": {},
     "output_type": "display_data"
    }
   ],
   "source": [
    "import pandas as pd\n",
    "import plotly.graph_objects as go\n",
    "from dash import Dash, dcc, html\n",
    "import random\n",
    "from fuzzywuzzy import process\n",
    "\n",
    "# Read CSV files into dataframes\n",
    "ratings_df = pd.read_csv('ratings.csv')\n",
    "movies_df = pd.read_csv('movies.csv')\n",
    "all_titles = movies_df['title'].tolist()\n",
    "\n",
    "def movie_finder(title):\n",
    "    return process.extractOne(title,all_titles)[0]\n",
    "    \n",
    "# Compute Bayesian average\n",
    "movie_stats = ratings_df.groupby('movieId')['rating'].agg(['count', 'mean'])\n",
    "C = movie_stats['count'].mean()\n",
    "m = movie_stats['mean'].mean()\n",
    "\n",
    "def bayesian_avg(ratings):\n",
    "    return round((C * m + ratings.sum()) / (C + ratings.count()), 3)\n",
    "\n",
    "average_ratings_df = ratings_df.groupby('movieId')['rating'].agg(bayesian_avg).reset_index()\n",
    "average_ratings_df.columns = ['movieId', 'average_rating']\n",
    "\n",
    "# Genre mappings\n",
    "genre_mappings = {\n",
    "    'Action': 'Action/Adventure',\n",
    "    'Adventure': 'Action/Adventure',\n",
    "    'Animation': 'Animation/Children',\n",
    "    'Children': 'Animation/Children',\n",
    "    'Fantasy': 'Fantasy/Western',\n",
    "    'Crime': 'Crime/Thriller',\n",
    "    'Thriller': 'Crime/Thriller',\n",
    "    'Mystery': 'Mystery/Film-Noir',\n",
    "    'Horror': 'Horror/Sci-Fi',\n",
    "    'Sci-Fi': 'Horror/Sci-Fi',\n",
    "    'War': 'War/Drama',\n",
    "    'Drama': 'War/Drama',\n",
    "    'Musical': 'Music/Romance',\n",
    "    'Romance': 'Music/Romance',\n",
    "    'Film-Noir': 'Mystery/Film-Noir',\n",
    "    'Documentary': 'Documentary/IMAX',\n",
    "    'IMAX': 'Documentary/IMAX',\n",
    "    'Western': 'Fantasy/Western'\n",
    "}\n",
    "\n",
    "# Function to combine genres based on mappings\n",
    "def combine_genres(genres):\n",
    "    return '|'.join(genre_mappings.get(genre, '') for genre in genres.split('|'))\n",
    "\n",
    "# Apply genre combination function to the dataset\n",
    "movies_df['combined_genres'] = movies_df['genres'].apply(combine_genres)\n",
    "\n",
    "# Merge ratings and movies data\n",
    "combined_df = pd.merge(ratings_df, movies_df, on='movieId')\n",
    "\n",
    "# Split the combined genres into individual genres\n",
    "split_genres = combined_df['combined_genres'].str.split('|')\n",
    "\n",
    "# Remove duplicates from each list of genres\n",
    "unique_genres = split_genres.apply(set)\n",
    "\n",
    "# Join the unique genres back together with \"|\"\n",
    "cleaned_genres = unique_genres.apply('|'.join)\n",
    "\n",
    "# Replace the combined_genres column with the cleaned genres\n",
    "combined_df['combined_genres'] = cleaned_genres\n",
    "\n",
    "# Get unique genres\n",
    "all_genres = set('|'.join(movies_df['combined_genres']).split('|')) - {''}\n",
    "\n",
    "# Initialize an empty dictionary to store users fond of each genre\n",
    "users_fond_of_genre = {}\n",
    "\n",
    "# Loop through each genre in unique_genres_list\n",
    "for genre in all_genres:\n",
    "    # Filter the dataset to include only rows where the movie belongs to the current genre\n",
    "    genre_movies_df = combined_df[combined_df['combined_genres'].str.contains(genre)]\n",
    "    \n",
    "    # Group the filtered dataset by user ID and count the number of unique movies each user has rated\n",
    "    genre_movie_counts = genre_movies_df.groupby('userId')['movieId'].nunique()\n",
    "\n",
    "    # Calculate the 95th percentile value for the current genre\n",
    "    percentile_95 = genre_movie_counts.quantile(0.98)\n",
    "    \n",
    "    # Identify users who have rated a significant number of movies for the current genre\n",
    "    threshold = percentile_95  # Using the 95th percentile value as the threshold\n",
    "    users_fond_of_current_genre = genre_movie_counts[genre_movie_counts >= threshold].index.tolist()\n",
    "    \n",
    "    # Store the list of users in the dictionary with the genre as the key\n",
    "    users_fond_of_genre[genre] = users_fond_of_current_genre\n",
    "    del genre_movies_df\n",
    "\n",
    "    \n",
    "def get_horizontal_bar_chart(movie_list):\n",
    "\n",
    "    movies_list = [movie_finder(movie) for movie in movie_list]\n",
    "\n",
    "    print(movies_list)\n",
    "    filtered_df = movies_df[movies_df['title'].isin(movie_list)]\n",
    "    \n",
    "    numbers_list = [int(movies_df[movies_df['title'] == title]['movieId']) for title in movies_list]\n",
    "\n",
    "    print(numbers_list)\n",
    "    # Calculate average ratings for each genre for each movie\n",
    "    genre_average_ratings = {}\n",
    "    for random_movie_id in numbers_list:\n",
    "        movie_row = combined_df[combined_df['movieId'] == random_movie_id]\n",
    "        genres = movie_row['combined_genres'].iloc[0].split('|')\n",
    "        if '' in genres:\n",
    "            genres.remove('')\n",
    "        genre_average_ratings[random_movie_id] = {}\n",
    "        for genre in genres:\n",
    "            filtered_ratings = combined_df[(combined_df['userId'].isin(users_fond_of_genre[genre])) & (combined_df['movieId'] == random_movie_id)]\n",
    "            average_rating = filtered_ratings['rating'].mean()\n",
    "            if average_rating == 0:\n",
    "                average_rating = average_ratings_df.loc[average_ratings_df['movieId'] == random_movie_id, 'average_rating'].iloc[0]\n",
    "            genre_average_ratings[random_movie_id][genre] = average_rating\n",
    "        for genre in all_genres:\n",
    "            if genre not in genres:\n",
    "                genre_average_ratings[random_movie_id][genre] = 0\n",
    "\n",
    "    # print(genre_average_ratings)\n",
    "\n",
    "\n",
    "    #import plotly.graph_objects as go\n",
    "\n",
    "\n",
    "    data=genre_average_ratings\n",
    "    # Initialize lists to store x and y values\n",
    "    x_values = []\n",
    "    x_values1 = []\n",
    "    x_values2 = []\n",
    "    x_values3 = []\n",
    "    x_values4 = []\n",
    "    x_values5 = []\n",
    "    x_values6 = []\n",
    "    x_values7 = []\n",
    "    x_values8 = []\n",
    "    x_values9 = []\n",
    "\n",
    "    y_values = movies_list\n",
    "\n",
    "    # Extract ratings for each genre for each movie\n",
    "    for movie_id, genre_ratings in data.items():\n",
    "        for genre, rating in genre_ratings.items():\n",
    "            if genre == 'Animation/Children':\n",
    "                x_values.append(rating)\n",
    "            elif genre == 'Action/Adventure':\n",
    "                x_values1.append(rating)\n",
    "            elif genre == 'War/Drama':\n",
    "                x_values2.append(rating)\n",
    "            elif genre == 'Documentary':\n",
    "                x_values3.append(rating)\n",
    "            elif genre == 'Crime/Thriller':\n",
    "                x_values4.append(rating)\n",
    "            elif genre == 'Documentary/IMAX':\n",
    "                x_values5.append(rating)\n",
    "            elif genre == 'Music/Romance':\n",
    "                x_values6.append(rating)\n",
    "            elif genre == 'Horror/Sci-Fi':\n",
    "                x_values7.append(rating)\n",
    "            elif genre == 'Fantasy/Western':\n",
    "                x_values8.append(rating)\n",
    "            elif genre == 'Mystery/Film-Noir':\n",
    "                x_values9.append(rating)\n",
    "\n",
    "    print(x_values)\n",
    "    fig = go.Figure()\n",
    "\n",
    "    fig.add_trace(go.Bar(\n",
    "        y=y_values,\n",
    "        x=x_values,\n",
    "        name='Animation/Children',\n",
    "        orientation='h',\n",
    "        marker=dict(\n",
    "            color='rgba(246, 78, 139, 0.6)',\n",
    "            line=dict(color='rgba(246, 78, 139, 1.0)', width=3)\n",
    "        )\n",
    "    ))\n",
    "\n",
    "    fig.add_trace(go.Bar(\n",
    "        y=y_values,\n",
    "        x=x_values1,\n",
    "        name='Action/Adventure',\n",
    "        orientation='h',\n",
    "        marker=dict(\n",
    "            color='rgba(58, 71, 80, 0.6)',\n",
    "            line=dict(color='rgba(58, 71, 80, 1.0)', width=3)\n",
    "        )\n",
    "    ))\n",
    "\n",
    "    fig.add_trace(go.Bar(\n",
    "        y=y_values,\n",
    "        x=x_values2,\n",
    "        name='War/Drama',\n",
    "        orientation='h',\n",
    "        marker=dict(\n",
    "            color='rgba(0, 100, 0, 0.6)',\n",
    "            line=dict(color='rgba(0, 100, 0, 1)', width=3)\n",
    "        )\n",
    "    ))\n",
    "\n",
    "    fig.add_trace(go.Bar(\n",
    "        y=y_values,\n",
    "        x=x_values3,\n",
    "        name='Documentary',\n",
    "        orientation='h',\n",
    "        marker=dict(\n",
    "            color='rgba(0, 0, 100, 0.6)',\n",
    "            line=dict(color='rgba(0, 0, 100, 1)', width=3)\n",
    "        )\n",
    "    ))\n",
    "\n",
    "    fig.add_trace(go.Bar(\n",
    "        y=y_values,\n",
    "        x=x_values4,\n",
    "        name='Crime/Thriller',\n",
    "        orientation='h',\n",
    "        marker=dict(\n",
    "            color='rgba(100, 0, 0, 0.6)',\n",
    "            line=dict(color='rgba(100, 0, 0, 1)', width=3)\n",
    "        )\n",
    "    ))\n",
    "\n",
    "    fig.add_trace(go.Bar(\n",
    "        y=y_values,\n",
    "        x=x_values5,\n",
    "        name='Documentary/IMAX',\n",
    "        orientation='h',\n",
    "        marker=dict(\n",
    "            color='rgba(255, 0, 10, 0.6)',\n",
    "            line=dict(color='rgba(255, 0, 10, 1)', width=3)\n",
    "        )\n",
    "    ))\n",
    "\n",
    "    fig.add_trace(go.Bar(\n",
    "        y=y_values,\n",
    "        x=x_values6,\n",
    "        name='Music/Romance',\n",
    "        orientation='h',\n",
    "        marker=dict(\n",
    "            color='rgba(96, 89, 161, 0.6)',\n",
    "            line=dict(color='rgba(96, 89, 161, 1)', width=3)\n",
    "        )\n",
    "    ))\n",
    "\n",
    "    fig.add_trace(go.Bar(\n",
    "        y=y_values,\n",
    "        x=x_values7,\n",
    "        name='Horror/Sci-Fi',\n",
    "        orientation='h',\n",
    "        marker=dict(\n",
    "            color='rgba(122, 255, 153, 0.6)',\n",
    "            line=dict(color='rgba(122, 255, 153, 1)', width=3)\n",
    "        )\n",
    "    ))\n",
    "\n",
    "    fig.add_trace(go.Bar(\n",
    "        y=y_values,\n",
    "        x=x_values8,\n",
    "        name='Fantasy/Western',\n",
    "        orientation='h',\n",
    "        marker=dict(\n",
    "            color='rgba(122, 255, 255, 0.6)',\n",
    "            line=dict(color='rgba(122, 255, 255, 1)', width=3)\n",
    "        )\n",
    "    ))\n",
    "\n",
    "    fig.add_trace(go.Bar(\n",
    "        y=y_values,\n",
    "        x=x_values9,\n",
    "        name='Mystery/Film-Noir',\n",
    "        orientation='h',\n",
    "        marker=dict(\n",
    "            color='rgba(252, 101, 0, 0.6)',\n",
    "            line=dict(color='rgba(252, 101, 0, 1)', width=3)\n",
    "        )\n",
    "    ))\n",
    "\n",
    "\n",
    "    fig.update_layout(barmode='stack')\n",
    "\n",
    "    return fig\n",
    "\n",
    "\n",
    "movie_list = ['Batman Begins','Dark Knight','Batman Returns','Dardevil','Spier-Man','Spider-Man2','Hulk','300','Catwomen']\n",
    "get_horizontal_bar_chart(movie_list)"
   ]
  },
  {
   "cell_type": "code",
   "execution_count": 16,
   "id": "4994ecf7-e0e0-4f30-8cf3-bfb03035bf27",
   "metadata": {},
   "outputs": [
    {
     "name": "stdout",
     "output_type": "stream",
     "text": [
      "[1, 3]\n"
     ]
    },
    {
     "name": "stderr",
     "output_type": "stream",
     "text": [
      "/var/folders/lp/tw6wpzqs11l54033wwlhzq500000gn/T/ipykernel_51594/1162192455.py:4: FutureWarning:\n",
      "\n",
      "Calling int on a single element Series is deprecated and will raise a TypeError in the future. Use int(ser.iloc[0]) instead\n",
      "\n"
     ]
    }
   ],
   "source": [
    "movies_list = ['Toy Story (1995)','Grumpier Old Men (1995)']\n",
    "movies_df = pd.read_csv('movies.csv')\n",
    "\n",
    "numbers_list = [int(movies_df[movies_df['title'] == title]['movieId']) for title in movies_list]\n",
    "print(numbers_list)"
   ]
  },
  {
   "cell_type": "code",
   "execution_count": null,
   "id": "1114a4ba-c4a4-4296-ad7e-38e658f09f83",
   "metadata": {},
   "outputs": [],
   "source": []
  }
 ],
 "metadata": {
  "kernelspec": {
   "display_name": "Python 3 (ipykernel)",
   "language": "python",
   "name": "python3"
  },
  "language_info": {
   "codemirror_mode": {
    "name": "ipython",
    "version": 3
   },
   "file_extension": ".py",
   "mimetype": "text/x-python",
   "name": "python",
   "nbconvert_exporter": "python",
   "pygments_lexer": "ipython3",
   "version": "3.11.7"
  }
 },
 "nbformat": 4,
 "nbformat_minor": 5
}
